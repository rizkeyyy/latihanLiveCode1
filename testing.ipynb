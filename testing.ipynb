{
 "cells": [
  {
   "cell_type": "markdown",
   "metadata": {},
   "source": [
    "# unittest"
   ]
  },
  {
   "cell_type": "code",
   "execution_count": null,
   "metadata": {
    "vscode": {
     "languageId": "plaintext"
    }
   },
   "outputs": [],
   "source": [
    "from main import calories_burned\n",
    "from child import total_session_burned_cal\n",
    "import unittest\n",
    "\n",
    "class testCaloriesBurned(unittest.TestCase):\n",
    "  def test_calories_burned(self):\n",
    "    result = calories_burned(60, \"berenang\")\n",
    "    self.assertEqual(result, 720)\n",
    "\n",
    "  def test_total_session_burned(self):\n",
    "     result = total_session_burned_cal('berenang', 'berlari', 'bersepeda', each_session_duration=5)\n",
    "     self.assertEqual(result, 150)\n",
    "     self.assertGreater(result, 160)\n",
    "     \n",
    "     \n",
    "\n",
    "if __name__ == \"__main__\":\n",
    "    unittest.main()  \n"
   ]
  }
 ],
 "metadata": {
  "language_info": {
   "name": "python"
  }
 },
 "nbformat": 4,
 "nbformat_minor": 2
}
