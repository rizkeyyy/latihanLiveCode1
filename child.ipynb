{
 "cells": [
  {
   "cell_type": "code",
   "execution_count": 5,
   "metadata": {},
   "outputs": [
    {
     "name": "stdout",
     "output_type": "stream",
     "text": [
      "200\n"
     ]
    }
   ],
   "source": [
    "from main import calories_burned\n",
    "\n",
    "def total_session_burned_cal(*exercises, each_session_duration):\n",
    "  total = 0\n",
    "  for i in exercises:\n",
    "    total = total + calories_burned(each_session_duration, i)\n",
    "  return total\n",
    "\n",
    "def main ():\n",
    "  result = total_session_burned_cal(\"berenang\", \"bersepeda\", each_session_duration=10)\n",
    "  print(result)\n",
    "\n",
    "if __name__ == \"__main__\":\n",
    "    main()\n"
   ]
  }
 ],
 "metadata": {
  "kernelspec": {
   "display_name": "Python 3",
   "language": "python",
   "name": "python3"
  },
  "language_info": {
   "codemirror_mode": {
    "name": "ipython",
    "version": 3
   },
   "file_extension": ".py",
   "mimetype": "text/x-python",
   "name": "python",
   "nbconvert_exporter": "python",
   "pygments_lexer": "ipython3",
   "version": "3.11.6"
  }
 },
 "nbformat": 4,
 "nbformat_minor": 2
}
