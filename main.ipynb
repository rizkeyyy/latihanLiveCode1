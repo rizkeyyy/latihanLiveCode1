{
 "cells": [
  {
   "cell_type": "markdown",
   "metadata": {},
   "source": []
  },
  {
   "cell_type": "code",
   "execution_count": null,
   "metadata": {},
   "outputs": [],
   "source": [
    "#fungsi buat menghitung kalori yang terbakar\n",
    "# soal no 1\n",
    "def calories_burned(duration, exercise):\n",
    "  #caloriesPerMinute = 0\n",
    "  if exercise == \"berlari\":\n",
    "    caloriesPerMinute = 10\n",
    "\n",
    "  elif exercise == \"bersepeda\":\n",
    "    caloriesPerMinute = 8\n",
    "\n",
    "  elif exercise == \"berenang\":\n",
    "    caloriesPerMinute = 12\n",
    "\n",
    "  return caloriesPerMinute * duration\n",
    "\n",
    "# fungsi utamanya\n",
    "\n",
    "def main ():\n",
    "  result = calories_burned(12, \"berenang\")\n",
    "  print(result)\n",
    "\n",
    "if __name__ == \"__main__\":\n",
    "    main()\n",
    "\n",
    "\n",
    "\n"
   ]
  }
 ],
 "metadata": {
  "kernelspec": {
   "display_name": "Python 3",
   "language": "python",
   "name": "python3"
  },
  "language_info": {
   "name": "python",
   "version": "3.11.6"
  }
 },
 "nbformat": 4,
 "nbformat_minor": 2
}
